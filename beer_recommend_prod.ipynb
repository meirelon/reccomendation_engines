{
 "cells": [
  {
   "cell_type": "code",
   "execution_count": 19,
   "metadata": {
    "collapsed": false,
    "deletable": true,
    "editable": true
   },
   "outputs": [],
   "source": [
    "import pandas as pd\n",
    "import numpy as np\n",
    "import string\n",
    "import re\n",
    "import jellyfish\n",
    "import warnings\n",
    "import json\n",
    "from scipy.stats import rankdata\n",
    "file_path = \"C:/Users/mnest/Google Drive/RWD/Beer_Advocate/\"\n",
    "warnings.filterwarnings('ignore')"
   ]
  },
  {
   "cell_type": "code",
   "execution_count": 9,
   "metadata": {
    "collapsed": true,
    "deletable": true,
    "editable": true
   },
   "outputs": [],
   "source": [
    "#a little spell checker never hurt anyone\n",
    "def amatch(a, b):\n",
    "    best_match_list = [jellyfish.jaro_distance(a.lower(),c.lower()) for c in b]\n",
    "    return(b[np.argmax(best_match_list)])"
   ]
  },
  {
   "cell_type": "code",
   "execution_count": 10,
   "metadata": {
    "collapsed": false,
    "deletable": true,
    "editable": true
   },
   "outputs": [],
   "source": [
    "beer_brew_info_df = pd.read_csv(file_path + \"beer_brew_df.csv\", header = 0)\n",
    "beer_brew_info_df = beer_brew_info_df.loc[beer_brew_info_df['beer_ratings_tot'] > 200, ]\n",
    "\n",
    "beer_styles = [re.sub(string=beer_style.lower(), \n",
    "                      pattern=\"[^\\w]|[^a-z]\", repl=\"\") for beer_style in beer_brew_info_df['beer_style'].unique()]"
   ]
  },
  {
   "cell_type": "code",
   "execution_count": 11,
   "metadata": {
    "collapsed": false,
    "deletable": true,
    "editable": true
   },
   "outputs": [],
   "source": [
    "def get_beer_review_info(beer_style):\n",
    "    x = pd.read_csv(file_path + \"beer_review_data_1000/beer_ratings_%s.csv\" % beer_style, \n",
    "                    names= ['look', 'smell', 'taste', 'feel', 'overall', 'beer_review', 'username', 'review_date', 'beer_id'])\n",
    "    x = x.merge(beer_brew_info_df[['beer_id', 'beer', 'brewery', 'beer_abv', 'beer_style_new','beer_bros']], on = \"beer_id\", how = \"inner\")\n",
    "    return(x)"
   ]
  },
  {
   "cell_type": "code",
   "execution_count": 12,
   "metadata": {
    "collapsed": false,
    "deletable": true,
    "editable": true
   },
   "outputs": [],
   "source": [
    "beer_review_list = [get_beer_review_info(beer_style) for beer_style in beer_styles]"
   ]
  },
  {
   "cell_type": "code",
   "execution_count": 31,
   "metadata": {
    "collapsed": false,
    "deletable": true,
    "editable": true
   },
   "outputs": [],
   "source": [
    "#if you prefer to work with the dictionary...\n",
    "beer_style_dict = {}\n",
    "tmp = zip(beer_styles, beer_review_list)\n",
    "for beer_style, df in tmp:\n",
    "    beer_style_dict[beer_style] = df"
   ]
  },
  {
   "cell_type": "code",
   "execution_count": 13,
   "metadata": {
    "collapsed": false,
    "deletable": true,
    "editable": true
   },
   "outputs": [],
   "source": [
    "#if you prefer to work with everything in one nice data.frame\n",
    "beer_review_df = pd.concat(beer_review_list)"
   ]
  },
  {
   "cell_type": "code",
   "execution_count": 14,
   "metadata": {
    "collapsed": false,
    "deletable": true,
    "editable": true
   },
   "outputs": [],
   "source": [
    "def common_reviews_by_beer_name(beername1, beername2):\n",
    "    beer1_id = beer_review_df.loc[beer_review_df['beer'] == beername1, ]['username']\n",
    "    beer2_id = beer_review_df.loc[beer_review_df['beer'] == beername2, ]['username']\n",
    "    same_reviewers = set(beer1_id).intersection(set(beer2_id))\n",
    "    if len(same_reviewers) <= 0:\n",
    "        same_reviewers = np.NAN\n",
    "    return(same_reviewers)"
   ]
  },
  {
   "cell_type": "code",
   "execution_count": 15,
   "metadata": {
    "collapsed": false,
    "deletable": true,
    "editable": true
   },
   "outputs": [],
   "source": [
    "def get_review_stats(beername, usernames):\n",
    "    beername = [beername]\n",
    "    #metrics = [\"look\", \"smell\", \"taste\", \"feel\", \"overall\"]\n",
    "    beer_df = beer_review_df.loc[(beer_review_df['beer'].isin(beername)) & (beer_review_df['username'].isin(usernames)), ]\n",
    "    beer_df = beer_df.sort_values(\"username\").drop_duplicates()\n",
    "    return(beer_df)"
   ]
  },
  {
   "cell_type": "code",
   "execution_count": 16,
   "metadata": {
    "collapsed": false,
    "deletable": true,
    "editable": true
   },
   "outputs": [],
   "source": [
    "def beer_similarity(beer1, beer2):\n",
    "    metrics = [\"look\", \"smell\", \"taste\", \"feel\", \"overall\"]\n",
    "    common_users = common_reviews_by_beer_name(beer1, beer2)\n",
    "    #if(any(np.isnan(common_users))):\n",
    "        #return np.NAN\n",
    "    try:\n",
    "        beer1_reviews = get_review_stats(beer1, common_users)\n",
    "        beer2_reviews = get_review_stats(beer2, common_users)\n",
    "    except:\n",
    "        return(np.NAN)\n",
    "    beer_relationships = []\n",
    "    for metric in metrics:\n",
    "        tmp = pd.concat([beer1_reviews[metric].to_frame().reset_index(drop=True), \n",
    "                         beer2_reviews[metric].to_frame().reset_index(drop=True)], axis=1)\n",
    "        \n",
    "        tmp.columns = [metric + \"1\", metric + \"2\"]\n",
    "        beer_relationships.append(tmp[metric+\"1\"].corr(tmp[metric+\"2\"]))\n",
    "        \n",
    "    weights = np.array([1.06, 1.24, 1.40, 1.10, 1.20])\n",
    "    return(np.sum(weights * beer_relationships))"
   ]
  },
  {
   "cell_type": "code",
   "execution_count": 17,
   "metadata": {
    "collapsed": false,
    "deletable": true,
    "editable": true
   },
   "outputs": [],
   "source": [
    "def beer_recommend(beer_you_tried, beer_style_to_try):\n",
    "    beer_you_tried = amatch(beer_you_tried, beer_review_df['beer'].unique())\n",
    "    beer_style_to_try = amatch(beer_style_to_try, beer_review_df['beer_style_new'].unique())\n",
    "    #print(beer_you_tried)\n",
    "    beer_you_tried_df = beer_brew_info_df.loc[beer_brew_info_df['beer'] == beer_you_tried, ]\n",
    "    \n",
    "    beer_style_df = beer_review_df.loc[(beer_review_df['beer_style_new'] == beer_style_to_try)\n",
    "                                       & (beer_review_df['beer'] != beer_you_tried)\n",
    "                                       & (beer_review_df['beer_bros'] >= float(85))\n",
    "                                       & (np.abs(beer_review_df['beer_abv'] - float(beer_you_tried_df['beer_abv'])) <= 2), ]\n",
    "    #print(\"total beers being scored is: %d\" % len(beer_style_df.index))\n",
    "    if(len(beer_style_df.index) < 1):\n",
    "        return(np.NAN)\n",
    "    beer_scores = np.array([beer_similarity(beer_you_tried, b) for b in beer_style_df['beer'].unique()])\n",
    "    beer_scores_top_5_bool = rankdata(-beer_scores, method = \"ordinal\") < 6\n",
    "    if(any(np.isnan(beer_scores[beer_scores_top_5_bool])) or len(beer_scores[beer_scores_top_5_bool]) < 5):\n",
    "        return(np.NAN)\n",
    "    best_beer = np.array(beer_style_df['beer_id'].unique())[beer_scores_top_5_bool]\n",
    "    best_beer_df = beer_brew_info_df.loc[beer_brew_info_df['beer_id'].isin(best_beer), ]\n",
    "    best_beer_df.insert(0, \"beer_sim\", beer_scores[beer_scores_top_5_bool])\n",
    "    best_beer_df = best_beer_df.sort_values(\"beer_sim\", ascending = False)\n",
    "    return(dict(zip(list(best_beer_df['beer_id']), list(best_beer_df['beer_sim']))))"
   ]
  },
  {
   "cell_type": "code",
   "execution_count": 14,
   "metadata": {
    "collapsed": false,
    "deletable": true,
    "editable": true
   },
   "outputs": [
    {
     "data": {
      "text/plain": [
       "{'113/571/': 1.0088234228291328,\n",
       " '119/179874/': 2.2583762898011903,\n",
       " '209/752/': 1.0617765550688236,\n",
       " '402/1192/': 1.9464140313675113,\n",
       " '590/2810/': 0.87299082021945185}"
      ]
     },
     "execution_count": 14,
     "metadata": {},
     "output_type": "execute_result"
    }
   ],
   "source": [
    "beer_recommend(\"Bell's Amber Ale\", \"stout\")"
   ]
  },
  {
   "cell_type": "code",
   "execution_count": 18,
   "metadata": {
    "collapsed": false,
    "deletable": true,
    "editable": true
   },
   "outputs": [
    {
     "name": "stdout",
     "output_type": "stream",
     "text": [
      "100 200 300 400 500 600 700 800 900 1000 "
     ]
    }
   ],
   "source": [
    "beers_to_score = list(beer_brew_info_df.sort(\"beer_ratings_tot\", ascending=False)['beer'])[1001:3000]\n",
    "beer_style_distinct = np.array(beer_brew_info_df['beer_style_new'].unique())\n",
    "beer_style_list = list(set(beer_style_distinct).intersection(set([\"IPA\", \"Light Beer\", \"Lager\", \"Stout\", \"Flavored\", \"Pilsner\", \"Malt Liquor\", \"Porter\", \"Red Ale\", \"Blonde Ale\", \"Black Ale\", \"Brown Ale\", \"Wheat Ale\", \"Pale Ale\", \"Wild Ale\"]))) \n",
    "beer_dict = {}\n",
    "i=0\n",
    "for beer in beers_to_score:\n",
    "    i+=1\n",
    "    if(i%100 == 0):\n",
    "        print(i, end = ' ')\n",
    "    beer_dict[beer] = {}\n",
    "    for beer_style in beer_style_list:\n",
    "        try:\n",
    "            beer_dict[beer][beer_style] = beer_recommend(beer, beer_style)\n",
    "        except:\n",
    "            pass\n",
    "        \n",
    "        "
   ]
  },
  {
   "cell_type": "code",
   "execution_count": 22,
   "metadata": {
    "collapsed": false
   },
   "outputs": [],
   "source": [
    "with open(file_path + 'beer_json.json', 'w') as fp:\n",
    "    json.dump(beer_dict, fp)"
   ]
  },
  {
   "cell_type": "code",
   "execution_count": 13,
   "metadata": {
    "collapsed": false,
    "deletable": true,
    "editable": true
   },
   "outputs": [
    {
     "data": {
      "text/plain": [
       "'Pursuit Of Hoppiness'"
      ]
     },
     "execution_count": 13,
     "metadata": {},
     "output_type": "execute_result"
    }
   ],
   "source": [
    "np.array(beer_brew_info_df['beer'])[57]"
   ]
  }
 ],
 "metadata": {
  "kernelspec": {
   "display_name": "Python 3",
   "language": "python",
   "name": "python3"
  },
  "language_info": {
   "codemirror_mode": {
    "name": "ipython",
    "version": 3
   },
   "file_extension": ".py",
   "mimetype": "text/x-python",
   "name": "python",
   "nbconvert_exporter": "python",
   "pygments_lexer": "ipython3",
   "version": "3.6.0"
  }
 },
 "nbformat": 4,
 "nbformat_minor": 2
}
